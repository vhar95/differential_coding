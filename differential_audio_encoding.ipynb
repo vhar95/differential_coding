{
 "cells": [
  {
   "cell_type": "markdown",
   "metadata": {},
   "source": [
    "# Differential (Predictive) Audio Coding"
   ]
  },
  {
   "cell_type": "markdown",
   "metadata": {},
   "source": [
    "## Motivation\n",
    "\n",
    "* Usually happens that the differences between consecutive (quantized or not) (Pulse-Code Modulation) PCM [[A.V. Oppenheim, 1999](https://scholar.google.com/scholar?hl=en&as_sdt=0%2C5&q=oppenheim+discrete+time+signal+processing&btnG=&oq=Oppenheim)] samples\n",
    "\n",
    "  $$\n",
    "    e[n] = s[n] - s[n-1]\n",
    "  $$\n",
    "\n",
    "  tend to have a smaller entropy than the original ($s$) ones:\n",
    "\n",
    "  $$\n",
    "    H(e) \\leq H(s)\n",
    "  $$\n",
    "\n",
    "  which potentially provides better lossless compression ratios for $e$ than for $s$.\n",
    "\n",
    "* Finally, notice that by definition, if any \"noise\" (such as quantization noise) has not beed introduced during the encoding process, differential encoding is a fully reversible process:\n",
    "\n",
    "  $$\n",
    "    s[n] = e[n] + s[n-1].\n",
    "  $$"
   ]
  },
  {
   "cell_type": "code",
   "execution_count": null,
   "metadata": {},
   "outputs": [],
   "source": [
    "# Compute $e$ signal for the JFK.wav $s$ signal and plot the probability density function (or the histogram) of $e$ (TO-DO)"
   ]
  },
  {
   "cell_type": "markdown",
   "metadata": {},
   "source": [
    "## DPCM (Differential PCM) [Gibson, 1998]\n",
    "\n",
    "* Pure differential encoding strategy:\n",
    "\n",
    "  <img src=\"local/DPCM.png\" width=\"400\">\n",
    "\n",
    "  \\begin{equation}\n",
    "    e[n] = s[n] - P(s,n)\n",
    "  \\end{equation}\n",
    "  where for the simplest case:\n",
    "  \\begin{equation}\n",
    "    P(s,n) = s[n-1]\n",
    "  \\end{equation}\n",
    "\n",
    "* Lossless.\n",
    "* Modest compression ratio (depending on the predictor).\n",
    "* Used (for example), in the [G.726 standard](https://en.wikipedia.org/wiki/G.726)."
   ]
  },
  {
   "cell_type": "code",
   "execution_count": null,
   "metadata": {},
   "outputs": [],
   "source": []
  },
  {
   "cell_type": "markdown",
   "metadata": {},
   "source": [
    "## Lossy DPCM [] C.C. Cutler. Differential Quantization for Television Signals. U.S. Patent 2 605 361 , July 29, 1952.\n",
    "\n",
    "<img src=\\\"local/QDPCM.png\\\" width=600>"
   ]
  },
  {
   "cell_type": "markdown",
   "metadata": {},
   "source": [
    "## ADPCM (Adaptive DPCM)~\\cite{Gibson98}\n",
    "\n",
    "\\begin{itemize}\n",
    "\\item An adaptive quantizer $Q$ remove ``the noise signal'':\n",
    "  \\begin{equation}\n",
    "    o[n] = Q\\big(i[n] - P(i,n)\\big)\n",
    "  \\end{equation}\n",
    "\\item Notice that:\n",
    "  \\begin{equation}\n",
    "    Q^{-1}(Q(x)) \\approx x\n",
    "  \\end{equation}\n",
    "  i.e. the codec is irreversible (lossy). It is not possible to recover\n",
    "  $i[n]$ from $o[n]$.\n",
    "\\item Used, e.g., by the G.726 standard.\n",
    "\\end{itemize}\n"
   ]
  },
  {
   "cell_type": "markdown",
   "metadata": {},
   "source": [
    "http://www.atc-labs.com/acepages/crcchapter.pdf\n",
    "\n"
   ]
  },
  {
   "cell_type": "markdown",
   "metadata": {},
   "source": [
    "http://www.atc-labs.com/acepages/crcchapter.pdf\n",
    "\n"
   ]
  },
  {
   "cell_type": "markdown",
   "metadata": {},
   "source": [
    "## Analysis-by-synthesis coding (CELP)"
   ]
  },
  {
   "cell_type": "markdown",
   "metadata": {},
   "source": [
    "## Delta Modulation\n",
    "* Employs a first-order predictor\n",
    "  $$\n",
    "  p(s,k) = ap(s,k-1)\n",
    "  $$\n",
    "  so, $P(z) = az^{-1}$, where $z^{-1}$ represents a unit delay.\n",
    "* The quantizer has only 2 levels, and the quantizer step size $\\Delta(k)$ is usually adaptive.\n",
    "* Prediction error signal:\n",
    "  $$\n",
    "  e(k) = s(k) - ap(s,k-1)\n",
    "  $$\n",
    "* Quantizer output:\n",
    "  $$\n",
    "  e_q(k) = \\Delta(k)\\text{sgn}(e(k)) = \\left\\{\n",
    "      \\begin{array}{ll}\n",
    "        +\\Delta(k), & \\mbox{$e(k) \\geq 0$};\\\\\n",
    "        -\\Delta(k), & \\mbox{$e(k) < 0$}.\n",
    "      \\end{array} \\right.\n",
    "  $$\n",
    "* Reconstructed signal:\n",
    "  $$\n",
    "  \\hat{s}(k) = a\\hat{s}(k-1)+e_q(k)\n",
    "  $$\n",
    "* Quantization error (noise):\n",
    "  $$\n",
    "  n_q(k) = e_q(k) - e(k) = \\hat{s}(k) - s(k)\n",
    "  $$\n",
    "* Typically, step size evolves according to the rule:\n",
    "  $$\n",
    "  \\Delta(k) = \\beta\\Delta(k-1)+(1-\\beta)\\Delta_\\text{min}+f(k)\n",
    "  $$\n",
    "  where $\\Delta_\\text{min}$ is the minimum quantizer step size, $0 < \\beta < 1$ is a parameter to be selected, and\n",
    "  $$\n",
    "  f(k) = \\left\\{\n",
    "      \\begin{array}{ll}\n",
    "        (1-\\beta)(\\Delta_\\text{max} - \\Delta_\\text{min}), & \\mbox{if $b(k)=b(k-1)=b(k-2)$}\\\\\n",
    "        0 & \\mbox{otherwise},\n",
    "      \\end{array} \\right.\n",
    "  $$\n",
    "  where\n",
    "  $$\n",
    "  b(k) = \\left\\{\n",
    "      \\begin{array}{ll}\n",
    "        +1, & \\mbox{if $e_q(k) = +\\Delta(k)$}\\\\\n",
    "        -1, & \\mbox{if $e_q(k) = -\\Delta(k)$}.\n",
    "      \\end{array} \\right.\n",
    "  $$\n",
    "  (transmitted bit sequence), and $\\Delta_\\text{max}\\triangleq$ maximum step size."
   ]
  },
  {
   "cell_type": "markdown",
   "metadata": {},
   "source": [
    "\\section{ADPCM (Adaptive DPCM)~\\cite{Gibson98}}\n",
    "%{{{\n",
    "\n",
    "\\begin{itemize}\n",
    "\\item An adaptive quantizer $Q$ remove ``the noise signal'':\n",
    "  \\begin{equation}\n",
    "    o[n] = Q\\big(i[n] - P(i,n)\\big)\n",
    "  \\end{equation}\n",
    "\\item Notice that:\n",
    "  \\begin{equation}\n",
    "    Q^{-1}(Q(x)) \\approx x\n",
    "  \\end{equation}\n",
    "  i.e. the codec is irreversible (lossy). It is not possible to recover\n",
    "  $i[n]$ from $o[n]$.\n",
    "\\item Used, e.g., by the G.726 standard.\n",
    "\\end{itemize}\n",
    "\n",
    "%}}}"
   ]
  },
  {
   "cell_type": "markdown",
   "metadata": {},
   "source": [
    "\\section{CELP (Code-Excited Linear Prediction)~\\cite{CELP}}\n",
    "%{{{\n",
    "\n",
    "\\begin{itemize}\n",
    "\\item Proposed by M.R. Schroeder and B.S. Atal in 1985.\n",
    "\\item Specifically designed for the human voice.\n",
    "\\item Used mainly in VoIP applications, Speex and MPEG-4.\n",
    "\\item Very low bit-rates (less than 4 Kbps).\n",
    "\\item Encoding algorithm:\n",
    "  \\begin{enumerate}\n",
    "  \\item Split the PCM signal in small PCM chunks.\n",
    "  \\item For each chunk:\n",
    "    \\begin{enumerate}\n",
    "    \\item Search a set of code-words (and their corresponding gains)\n",
    "      that minimize the distortion in a decoder that use the code-word\n",
    "      indexes (and the gains) to synthesize a voice signal by beans of a\n",
    "      model of the human vocal tract.\n",
    "    \\end{enumerate}\n",
    "    \\item Encode the residuals using RLE and Golomb Coding.\n",
    "\\end{enumerate}\n",
    "\\end{itemize}"
   ]
  },
  {
   "cell_type": "markdown",
   "metadata": {},
   "source": [
    "### Lossless/noiseless (source coding) and lossy\n",
    "\n",
    "* Perceptual coders are based on a\n",
    "psychoacoustic model and take advantage of the\n",
    "masking properties of the human auditory system.\n",
    "\n",
    "* Most audio compression algorithms typically segment\n",
    "the input signal into blocks of 2ms up to 50ms\n",
    "duration. A time-frequency analysis then decomposes\n",
    "each analysis block in the encoder. This\n",
    "transformation or subband filtering scheme compacts\n",
    "the energy into a few transform coefficients and\n",
    "therefore de-correlates successive samples. These\n",
    "coefficients, subband samples or parameters are\n",
    "quantized and encoded according to perceptual\n",
    "criteria. Depending on the system objectives, the\n",
    "time-frequency analysis section might contain:\n",
    "  + Unitary transform (MDCT, FFT)\n",
    "  + Polyphase filterbank with uniform bandpass filters\n",
    "  + Time-varying, critically sampled bank of nonuniform bandpass filters\n",
    "  + Hybrid transform/filterbank scheme\n",
    "  + Harmonic/sinusoidal signal analyzer\n",
    "  + Source system analysis (LPC)\n",
    " \n",
    "* The time-frequency analysis approach always\n",
    "involves a fundamental tradeoff between time and\n",
    "frequency resolution requirements. The choice of the\n",
    "time-frequency analysis method additionally\n",
    "determines the amount of coding delay introduced, a \n",
    "parameter which may become important in duplex\n",
    "broadcast and live-events applications. \n",
    "\n",
    "* Lossless audio compression mostly is realized by\n",
    "using a combination of linear prediction or a\n",
    "transformation followed by entropy coding. The\n",
    "linear predictor attempts to minimize the variance of\n",
    "the difference signal between the predicted sample\n",
    "value and its actual value. The entropy coder\n",
    "(Huffmann, LZW) allocates short codewords to\n",
    "samples with high probability of occurance and\n",
    "longer codewords to samples with lower probability\n",
    "and in this way reduces the average bit consumption. \n",
    "\n",
    "* In contrast to lossless audio coding which is based on removing redundancy, lossy coding techniques make use of removing redundancy and irrelevancy based on perceptual criteria (http://staff.fh-hagenberg.at/schaffer/avt2/Docs/Perceptual_Audio_Coding_Tutorial.pdf). In contrast to a lossless coding system, a lossy\n",
    "compression schemes not only exploits the statistical\n",
    "redundancies but also the perceptual irrelevancies of\n",
    "the signal, as they result from the properties of the\n",
    "human auditory system. "
   ]
  },
  {
   "cell_type": "markdown",
   "metadata": {},
   "source": [
    "## Text compression = Entropy coding\n",
    "In the context of signal encoding, entropy coding refeers to assign short codewords to hightly probable (quantization levels) levels and longer code-words to less probable levels, yilding a short average code-word length."
   ]
  }
 ],
 "metadata": {
  "kernelspec": {
   "display_name": "Python 3",
   "language": "python",
   "name": "python3"
  },
  "language_info": {
   "codemirror_mode": {
    "name": "ipython",
    "version": 3
   },
   "file_extension": ".py",
   "mimetype": "text/x-python",
   "name": "python",
   "nbconvert_exporter": "python",
   "pygments_lexer": "ipython3",
   "version": "3.6.3"
  }
 },
 "nbformat": 4,
 "nbformat_minor": 1
}
