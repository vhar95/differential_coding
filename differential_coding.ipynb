{
 "cells": [
  {
   "cell_type": "markdown",
   "metadata": {},
   "source": [
    "# Differential (Predictive) Coding"
   ]
  },
  {
   "cell_type": "markdown",
   "metadata": {},
   "source": [
    "## Motivation\n",
    "\n",
    "* Usually happens that the differences between consecutive PCM (Pulse-Code Modulation) [[A.V. Oppenheim, 1999](https://scholar.google.com/scholar?hl=en&as_sdt=0%2C5&q=oppenheim+discrete+time+signal+processing&btnG=&oq=Oppenheim)] samples\n",
    "\n",
    "  $$\n",
    "    e[n] = s[n] - s[n-1],\n",
    "  $$\n",
    "\n",
    "  tend to have a smaller variance (and therefore, smaller entropy) than the original ($s$) ones\n",
    "\n",
    "  $$\n",
    "    \\sigma^2(e) \\leq \\sigma^2(s),\n",
    "  $$\n",
    "\n",
    "  which potentially provides better lossless compression ratios for $e$ than for $s$.\n",
    "\n",
    "* Finally, notice that by definition, if a source of \"noise\" (such as the quantization noise) has not been introduced during the encoding process, differential encoding is a fully reversible process:\n",
    "\n",
    "  $$\n",
    "    s[n] = e[n] + s[n-1].\n",
    "  $$"
   ]
  },
  {
   "cell_type": "markdown",
   "metadata": {},
   "source": [
    "# Lab\n",
    "\n",
    "* Compute $e$ signal for the [Jfk_berlin_address_high.ogg](https://upload.wikimedia.org/wikipedia/commons/3/3a/Jfk_berlin_address_high.ogg) $s$ signal and plot the probability density function (also known as the histogram) of $e$. Note: use Python and Matplotlib, and insert the code here."
   ]
  },
  {
   "cell_type": "code",
   "execution_count": 1,
   "metadata": {},
   "outputs": [
    {
     "data": {
      "text/latex": [
       "$$\\text{Original signal}~s[n]$$"
      ],
      "text/plain": [
       "<IPython.core.display.Math object>"
      ]
     },
     "metadata": {},
     "output_type": "display_data"
    },
    {
     "name": "stdout",
     "output_type": "stream",
     "text": [
      "[   0    0    0 ..., 5632 5295 4750]\n"
     ]
    },
    {
     "data": {
      "text/latex": [
       "$$\\text{For compute the e signal we use the following definition:}~e[n]=s[n]-s[n-1]$$"
      ],
      "text/plain": [
       "<IPython.core.display.Math object>"
      ]
     },
     "metadata": {},
     "output_type": "display_data"
    },
    {
     "data": {
      "text/latex": [
       "$$\\text{And we get this:}~e[n]$$"
      ],
      "text/plain": [
       "<IPython.core.display.Math object>"
      ]
     },
     "metadata": {},
     "output_type": "display_data"
    },
    {
     "name": "stdout",
     "output_type": "stream",
     "text": [
      "[   0    0    0 ..., -117 -337 -545]\n"
     ]
    },
    {
     "data": {
      "text/latex": [
       "$$\\text{Now we check the variance:}~\\sigma^2(e)\\leq\\sigma^2(s)$$"
      ],
      "text/plain": [
       "<IPython.core.display.Math object>"
      ]
     },
     "metadata": {},
     "output_type": "display_data"
    },
    {
     "name": "stdout",
     "output_type": "stream",
     "text": [
      "Variance s 16284125.0537\n",
      "Variance e 249304.528952\n"
     ]
    },
    {
     "data": {
      "text/latex": [
       "$$\\text{Variance of the signal}~e~\\text{is less than the variance of signal}~s$$"
      ],
      "text/plain": [
       "<IPython.core.display.Math object>"
      ]
     },
     "metadata": {},
     "output_type": "display_data"
    },
    {
     "data": {
      "text/latex": [
       "$$\\text{We can recompute the original signal use this definition:}~s[n]=e[n]+s[n-1]$$"
      ],
      "text/plain": [
       "<IPython.core.display.Math object>"
      ]
     },
     "metadata": {},
     "output_type": "display_data"
    },
    {
     "data": {
      "text/latex": [
       "$$\\text{Result:}~s[n]$$"
      ],
      "text/plain": [
       "<IPython.core.display.Math object>"
      ]
     },
     "metadata": {},
     "output_type": "display_data"
    },
    {
     "name": "stdout",
     "output_type": "stream",
     "text": [
      "Recompute signal [   0    0    0 ..., 5632 5295 4750]\n"
     ]
    },
    {
     "data": {
      "text/latex": [
       "$$\\text{We can verify the original signal and the recompute signal are equal}$$"
      ],
      "text/plain": [
       "<IPython.core.display.Math object>"
      ]
     },
     "metadata": {},
     "output_type": "display_data"
    },
    {
     "data": {
      "text/latex": [
       "$$\\text{Recompute signal is equal to original}$$"
      ],
      "text/plain": [
       "<IPython.core.display.Math object>"
      ]
     },
     "metadata": {},
     "output_type": "display_data"
    },
    {
     "data": {
      "text/latex": [
       "$$\\text{Graphics}$$"
      ],
      "text/plain": [
       "<IPython.core.display.Math object>"
      ]
     },
     "metadata": {},
     "output_type": "display_data"
    },
    {
     "data": {
      "image/png": "[encoded data removed]",
      "text/plain": [
       "<matplotlib.figure.Figure at 0x1b78170bd68>"
      ]
     },
     "metadata": {},
     "output_type": "display_data"
    },
    {
     "data": {
      "image/png": "[encoded data removed]",
      "text/plain": [
       "<matplotlib.figure.Figure at 0x1b783394be0>"
      ]
     },
     "metadata": {},
     "output_type": "display_data"
    },
    {
     "data": {
      "image/png": "[encoded data removed]",
      "text/plain": [
       "<matplotlib.figure.Figure at 0x1b7833e4710>"
      ]
     },
     "metadata": {},
     "output_type": "display_data"
    },
    {
     "data": {
      "image/png": "[encoded data removed]",
      "text/plain": [
       "<matplotlib.figure.Figure at 0x1b7836b25c0>"
      ]
     },
     "metadata": {},
     "output_type": "display_data"
    }
   ],
   "source": [
    "import matplotlib.pyplot as plt\n",
    "import pylab as P\n",
    "from scipy.io import wavfile as wav\n",
    "import numpy as np\n",
    "from IPython.display import Math\n",
    "\n",
    "#Read wave\n",
    "rate, data = wav.read('audio/Jfk_berlin_address_high.wav')\n",
    "#Keep only 2 min because wave is too long\n",
    "signal = data[0:int(120*rate)]\n",
    "#This wave have 2 channels so in this example only use one\n",
    "soloC = signal[:,0]\n",
    "#Compute e_signal\n",
    "e_signal = np.append(soloC[0], soloC[1:] - soloC[:-1])\n",
    "#Recompute original\n",
    "recompute = np.append(e_signal[0], e_signal[1:] + soloC[:-1])\n",
    "#Variance\n",
    "varSignal = np.var(soloC)\n",
    "varE = np.var(e_signal)\n",
    "#Check origianl signal with recompute signal \n",
    "c = np.all(np.array(soloC) == np.array(recompute))\n",
    "            \n",
    "#Output\n",
    "display(Math(r'\\text{Original signal}~s[n]'))\n",
    "print(soloC)\n",
    "display(Math(r'\\text{For compute the e signal we use the following definition:}~e[n]=s[n]-s[n-1]'))\n",
    "display(Math(r'\\text{And we get this:}~e[n]'))\n",
    "print(e_signal)\n",
    "display(Math(r'\\text{Now we check the variance:}~\\sigma^2(e)\\leq\\sigma^2(s)'))\n",
    "print('Variance s',varSignal)\n",
    "print('Variance e',varE)\n",
    "if (varE <= varSignal ): display(Math(r'\\text{Variance of the signal}~e~\\text{is less than the variance of signal}~s'))\n",
    "display(Math(r'\\text{We can recompute the original signal use this definition:}~s[n]=e[n]+s[n-1]'))\n",
    "display(Math(r'\\text{Result:}~s[n]'))\n",
    "print('Recompute signal', recompute)\n",
    "display(Math(r'\\text{We can verify the original signal and the recompute signal are equal}'))\n",
    "if (c == True) : display(Math(r'\\text{Recompute signal is equal to original}'))\n",
    "\n",
    "display(Math(r'\\text{Graphics}'))    \n",
    "%matplotlib inline\n",
    "plt.figure()\n",
    "plt.plot(soloC)\n",
    "plt.title('S[n] time domain')\n",
    "plt.xlabel('Time/s')\n",
    "plt.ylabel('Amplitude')\n",
    "plt.figure()\n",
    "plt.hist(soloC,50)\n",
    "plt.title('S[n] histogram-probability density function')\n",
    "plt.figure()\n",
    "plt.plot(e_signal)\n",
    "plt.title('e[n] time domain')\n",
    "plt.xlabel('Time/s')\n",
    "plt.ylabel('Amplitude')\n",
    "plt.figure()\n",
    "plt.hist(e_signal,50)\n",
    "plt.title('e[n] histogram-probability density function')\n",
    "plt.show()"
   ]
  },
  {
   "cell_type": "markdown",
   "metadata": {},
   "source": [
    "## DPCM (Differential PCM) [[Cutler, 1952]](https://scholar.google.es/scholar?hl=es&as_sdt=0%2C5&q=%22Differential+quantization+of+communication+signals%22&btnG=)\n",
    "\n",
    "* Signals sampled at Nyquist rate exhibit correlation between consecutive samples. Therefore, the variance of the first difference\n",
    "\n",
    "  \\begin{equation}\n",
    "    \\sigma^2(\\{s[n+1]-s[n]\\}_{n=0}^{N-1})\n",
    "  \\end{equation}\n",
    "  \n",
    "  will be smaller than the variance of the signal itself\n",
    "\n",
    "  \\begin{equation}\n",
    "    \\sigma^2(\\{s[n+1]-s[n]\\}_{n=0}^{N-1}) < \\sigma^2(s) = \\sigma_s^2.\n",
    "  \\end{equation}\n",
    "\n",
    "* In general, DPCM consist in computing the residual (error signal):\n",
    "\n",
    "  \\begin{equation}\n",
    "    e[n] = s[n] - \\hat{s}[n]\n",
    "  \\end{equation}\n",
    "  \n",
    "  where for the simplest case:\n",
    "  \n",
    "  \\begin{equation}\n",
    "    \\hat{s}[n] = s[n-1]\n",
    "  \\end{equation}\n",
    "\n",
    "  <img src=\"figs/DPCM.png\" width=\"400\">\n",
    "\n",
    "* Used in the [G.726 standard](https://en.wikipedia.org/wiki/G.726)."
   ]
  },
  {
   "cell_type": "markdown",
   "metadata": {},
   "source": [
    "## ADPCM (Adaptive DPCM)\n",
    "\n",
    "* In orter to minimize $\\sigma^2_e$, the predictor $P$ can change its behaviour depending on the characteristics of $s$."
   ]
  },
  {
   "cell_type": "markdown",
   "metadata": {},
   "source": [
    "## Forward adaptive prediction\n",
    "\n",
    "* Splits the input into blocks, optimizes the predictor for each block and sends with each ADPCM block the predictor coefficients as side information."
   ]
  },
  {
   "cell_type": "markdown",
   "metadata": {},
   "source": [
    "## Optimal prediction based on Weiner-Hopf optimization\n",
    "\n",
    "* The predictor can be any structure capable of producing a signal\n",
    "\n",
    "  \\begin{equation}\n",
    "    \\hat{s} \\approx s.\n",
    "  \\end{equation}\n",
    "\n",
    "* In the case of using LPC (Linear Predictive Coding), where\n",
    "\n",
    "  \\begin{equation}\n",
    "    \\hat{s}[n] = \\sum_{i=1}^M a_i s[n-i],\n",
    "  \\end{equation}\n",
    "  \n",
    "  $\\{a_i\\}_{i=1}^M$ are the LPC coefficients and $M$ is the predictor order.\n",
    "  \n",
    "* Optimal foeffs $\\{a_i\\}$ can be found when they minimize the variance of the residue (error signal)\n",
    "  \n",
    "  \\begin{equation}\n",
    "    \\sigma_e^2 = \\text{E}\\big[(s[n]-\\sum_{i=1}^M a_i s[n-i])^2\\big].\n",
    "  \\end{equation}\n",
    "  \n",
    "* For this, it must me hold that\n",
    "\n",
    "  \\begin{equation}\n",
    "    \\left.\n",
    "      \\begin{array}{c}\n",
    "        \\displaystyle\\frac{\\partial\\sigma_e^2}{\\partial a_1} = -2\\text{E}\\Big[\\big(s[n]-\\displaystyle\\sum_{i=1}^M a_i s[n-i]\\big)s[n-1]\\Big] = 0 \\\\\n",
    "        \\displaystyle\\frac{\\partial\\sigma_e^2}{\\partial a_2} = -2\\text{E}\\Big[\\big(s[n]-\\displaystyle\\sum_{i=1}^M a_i s[n-i]\\big)s[n-2\\Big] = 0 \\\\\n",
    "        \\vdots \\\\\n",
    "        \\displaystyle\\frac{\\partial\\sigma_e^2}{\\partial a_M} = -2\\text{E}\\Big[\\big(s[n]-\\displaystyle\\sum_{i=1}^M a_i s[n-i]\\big)s[n-M]\\Big] = 0 \n",
    "      \\end{array}\n",
    "    \\right\\rbrace.\n",
    "  \\end{equation}\n",
    "  \n",
    "* Appying expectations we get that\n",
    "\n",
    "  \\begin{equation}\n",
    "    \\left.\n",
    "      \\begin{array}{c}\n",
    "        \\displaystyle\\sum_{i=1}^M a_i \\text{R}_{ss}(i-1) = \\text{R}_{ss}(1) \\\\\n",
    "        \\displaystyle\\sum_{i=1}^M a_i \\text{R}_{ss}(i-2) = \\text{R}_{ss}(2) \\\\\n",
    "        \\vdots\\\\\n",
    "        \\displaystyle\\sum_{i=1}^M a_i \\text{R}_{ss}(i-M) = \\text{R}_{ss}(M) \\\\\n",
    "      \\end{array}\n",
    "    \\right\\rbrace,\n",
    "    \\tag{Weiner-Hopf equations}\n",
    "    \\label{Weiner-Hopf equations}\n",
    "  \\end{equation}\n",
    "  \n",
    "  where $\\text{R}_{ss}(k)$ is the autorrelation function of $s$, defined as\n",
    "  \n",
    "  \\begin{equation}\n",
    "    \\text{R}_{ss}(k) = \\text{E}\\big[s[n]s[n-k]\\big] = \\frac{1}{M-k}\\sum_{i=1}^{M-k} s[i]s[i+k].\n",
    "    \\tag{autocorrelation}\n",
    "    \\label{autocorrelation}\n",
    "  \\end{equation}"
   ]
  },
  {
   "cell_type": "markdown",
   "metadata": {},
   "source": [
    "## Lab\n",
    "For each $M=\\{1,2,3\\}$, determine the optimal predictor for the audio [Jfk_berlin_address_high.ogg](https://upload.wikimedia.org/wikipedia/commons/3/3a/Jfk_berlin_address_high.ogg), using Weiner-Hopf optimization. Next, compute the variance of $e$ for each prediction order."
   ]
  },
  {
   "cell_type": "markdown",
   "metadata": {},
   "source": [
    "## Backward adaptive prediction\n",
    "\n",
    "* Both, the encoder and the decoder can constinuosly adapt the prediction to the characteristics of $s$, if both only use the information that is available at the decoder."
   ]
  },
  {
   "cell_type": "markdown",
   "metadata": {},
   "source": [
    "## Adaptive prediction based on Least Mean Squared (LMS) algorithm\n",
    "\n",
    "* As we know,\n",
    "\n",
    "  \\begin{equation}\n",
    "    e[n] = s[n] - \\hat{s}[n] = s[n] - \\sum_{i=1}^M a_is[n-i].\n",
    "  \\end{equation}\n",
    "  \n",
    "* Our objective is to minimize $e[n]$, which is the same that minimizing the energy of the prediction error $e^2$, by controlling the $\\{a_i\\}_{i=1}^M$ coefficients.\n",
    "\n",
    "* Suppose that we can control iteratively these coefficients, by incrementing or decrementing them with a proportionality constant $\\alpha$ (the larger $\\alpha$, the faster the convergence but possiblely the oscillation, and viceversa). Let's denote $a_i^{[n]}$ the value of coeff $a_i$ at iteration $n$ of the algorithm. If happens, for example, that\n",
    "\n",
    "  \\begin{equation}\n",
    "    \\frac{\\partial e^2[n]}{\\partial a_i} < 0\n",
    "  \\end{equation}\n",
    "  \n",
    "  (the squared prediction error for iteration $n$ has been increased compared to the previous iteration), then the prediction $\\hat{s}[n]$ should have been larger, and viceversa. Let's define the iterative control of $\\{a_i\\}_{i=1}^M$ coefficients as\n",
    "  \n",
    "  \\begin{equation}\n",
    "    \\Big\\{a_i^{[n+1]} = a_i^{[n]} - \\alpha\\frac{\\partial e^2[n]}{\\partial a_i}\\Big\\}_{i=1}^M\n",
    "    \\tag{LMS_idea}\n",
    "  \\end{equation}\n",
    "  \n",
    "* Applying derivatives we obtain for $a_i$ that \n",
    "\n",
    "  \\begin{equation}\n",
    "    \\frac{\\partial e^2[n]}{\\partial a_i} = \\frac{\\partial\\Big(s[n] - \\sum_{i=1}^M a_is[n-i]\\Big)^2}{\\partial a_i} = -2\\Big(s[n] - \\sum_{i=1}^M a_is[n-i]\\Big)s[n-i] = -2e[n]s[n-i].\n",
    "    \\end{equation}\n",
    "    \n",
    "* Substituting this expression in Eq. (LMS_idea), we get that\n",
    "\n",
    "  \\begin{equation}\n",
    "    \\Big\\{a_i^{[n+1]} = a_i^{[n]} +2\\alpha e[n]s[n-i]\\Big\\}_{i=1}^M.\n",
    "    \\tag{LMS_control}\n",
    "  \\end{equation}\n",
    "\n",
    "* Notice that, in a backward adaptive prediction scheme, both elements $e[n]$ and $s[n-i]$ are known at iteration $n$ at both, the encoder and the decoder."
   ]
  },
  {
   "cell_type": "markdown",
   "metadata": {},
   "source": [
    "## Lossy DPCM [[Cutler, 1952]](https://scholar.google.es/scholar?hl=es&as_sdt=0%2C5&q=%22Differential+quantization+of+communication+signals%22&btnG=)\n",
    "\n",
    "<img src=\"figs/QDPCM.png\\\" width=800>\n",
    "\n",
    "* The prediction error is quantized to decrease the variance\n",
    "\n",
    "  \\begin{equation}\n",
    "    \\tilde{e}[n] = Q(e[n]),\n",
    "  \\end{equation}\n",
    "  \n",
    "  where\n",
    "  \n",
    "  \\begin{equation}\n",
    "    e[n] = s[n] - \\hat{\\tilde{s}}[n],\n",
    "  \\end{equation}\n",
    "  \n",
    "  where\n",
    "  \n",
    "  \\begin{equation}\n",
    "    \\tilde{s}[n] = \\hat{\\tilde{s}}[n] + \\tilde{e}[n].\n",
    "  \\end{equation}\n",
    "\n",
    "* Used in [hybrid (lossy DPCM/transform) video coding](https://en.wikipedia.org/wiki/High_Efficiency_Video_Coding#Video_coding_layer)."
   ]
  }
 ],
 "metadata": {
  "kernelspec": {
   "display_name": "Python 3",
   "language": "python",
   "name": "python3"
  },
  "language_info": {
   "codemirror_mode": {
    "name": "ipython",
    "version": 3
   },
   "file_extension": ".py",
   "mimetype": "text/x-python",
   "name": "python",
   "nbconvert_exporter": "python",
   "pygments_lexer": "ipython3",
   "version": "3.6.3"
  }
 },
 "nbformat": 4,
 "nbformat_minor": 1
}
